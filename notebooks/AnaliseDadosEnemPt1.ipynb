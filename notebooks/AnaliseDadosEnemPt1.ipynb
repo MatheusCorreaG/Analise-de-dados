{
 "cells": [
  {
   "cell_type": "markdown",
   "id": "expensive-acoustic",
   "metadata": {},
   "source": [
    "# Análise de Dados da Prova do ENEM 2022 - Parte 1: Explorando os dados, obtendo informações e insights sobre os candidatos \n",
    "\n",
    "Esta é a parte 1 do projeto de análise dos dados da prova do Exame Nacional do Ensino Médio (ENEM) 2022. Nessa etapa inicial, o objetivo foi explorar informações descritivas sobre os candidatos e suas notas, buscando obter insights que pudessem ajudar a entender mais sobre o desempenho acadêmico e abrir caminho para a análise dos indicadores socioeconômicos.\n",
    "\n",
    "A análise, teve com objetivo de desvendar os padrões subjacentes aos dados do ENEM 2022, identificando tendências que podem oferecer valiosas perspectivas aos educadores, formuladores de políticas e, claro, aos próprios estudantes.\n",
    "\n",
    "Foram explorados assuntos que possibilitaram examinar de perto as notas obtidas pelos estudantes em cada uma das provas, bem como informações demográficas relevantes, como idade, sexo e nível de escolaridade. Esse primeiro passo permitiu a construção de um panorama geral do desempenho dos candidatos no exame, destacando áreas de destaque e desafios. Além também de respostas sobre como o nível de escolaridade dos pais pode impactar o desempenho dos estudantes, constatando uma correlação entre o nível educacional familiar e o resultado nas provas do ENEM. \n",
    "\n",
    "A intenção deste projeto é fornecer uma compreensão abrangente dos dados coletados, contribuindo para uma discussão mais ampla sobre o sistema educacional brasileiro e suas necessidades. Nesse sentido, busco direcionar o olhar para a equidade de oportunidades, inclusão e qualidade do ensino."
   ]
  },
  {
   "cell_type": "code",
   "execution_count": 1,
   "id": "designed-singing",
   "metadata": {},
   "outputs": [],
   "source": [
    "import pandas as pd\n",
    "import matplotlib as plt\n"
   ]
  },
  {
   "cell_type": "code",
   "execution_count": 2,
   "id": "other-audio",
   "metadata": {},
   "outputs": [],
   "source": [
    "colunas = ['NU_INSCRICAO', 'TP_FAIXA_ETARIA', 'TP_SEXO', 'TP_ESTADO_CIVIL', 'TP_COR_RACA', 'TP_ANO_CONCLUIU', 'TP_ESCOLA', 'CO_MUNICIPIO_ESC', 'NO_MUNICIPIO_ESC', 'CO_UF_ESC', 'SG_UF_ESC', 'TP_DEPENDENCIA_ADM_ESC', 'TP_LOCALIZACAO_ESC', 'CO_MUNICIPIO_PROVA', 'NO_MUNICIPIO_PROVA', 'SG_UF_PROVA', 'NU_NOTA_CN', 'NU_NOTA_CH', 'NU_NOTA_LC', 'NU_NOTA_MT', 'NU_NOTA_REDACAO', 'Q001', 'Q002'] "
   ]
  },
  {
   "cell_type": "markdown",
   "id": "criminal-coast",
   "metadata": {},
   "source": [
    "### Importando os dados do Enem 2022\n",
    "\n",
    "Essa base de dados trata-se das informações específicas das provas, os gabaritos, as informações sobre os itens, as notas e o questionário respondido pelos inscritos no Enem 2022, e pode ser obtido no seguinte site:\n",
    "https://www.gov.br/inep/pt-br/acesso-a-informacao/dados-abertos/microdados/enem"
   ]
  },
  {
   "cell_type": "code",
   "execution_count": 3,
   "id": "acting-essence",
   "metadata": {
    "scrolled": true
   },
   "outputs": [],
   "source": [
    "microDadosEnem = pd.read_csv('DADOS/MICRODADOS_ENEM_2022.csv', sep = \";\", encoding = 'ISO-8859-1', usecols=colunas)"
   ]
  },
  {
   "cell_type": "code",
   "execution_count": 15,
   "id": "electronic-pendant",
   "metadata": {
    "scrolled": true
   },
   "outputs": [
    {
     "data": {
      "text/html": [
       "<div>\n",
       "<style scoped>\n",
       "    .dataframe tbody tr th:only-of-type {\n",
       "        vertical-align: middle;\n",
       "    }\n",
       "\n",
       "    .dataframe tbody tr th {\n",
       "        vertical-align: top;\n",
       "    }\n",
       "\n",
       "    .dataframe thead th {\n",
       "        text-align: right;\n",
       "    }\n",
       "</style>\n",
       "<table border=\"1\" class=\"dataframe\">\n",
       "  <thead>\n",
       "    <tr style=\"text-align: right;\">\n",
       "      <th></th>\n",
       "      <th>NU_INSCRICAO</th>\n",
       "      <th>TP_FAIXA_ETARIA</th>\n",
       "      <th>TP_SEXO</th>\n",
       "      <th>TP_ESTADO_CIVIL</th>\n",
       "      <th>TP_COR_RACA</th>\n",
       "      <th>TP_ANO_CONCLUIU</th>\n",
       "      <th>TP_ESCOLA</th>\n",
       "      <th>CO_MUNICIPIO_ESC</th>\n",
       "      <th>NO_MUNICIPIO_ESC</th>\n",
       "      <th>CO_UF_ESC</th>\n",
       "      <th>...</th>\n",
       "      <th>CO_MUNICIPIO_PROVA</th>\n",
       "      <th>NO_MUNICIPIO_PROVA</th>\n",
       "      <th>SG_UF_PROVA</th>\n",
       "      <th>NU_NOTA_CN</th>\n",
       "      <th>NU_NOTA_CH</th>\n",
       "      <th>NU_NOTA_LC</th>\n",
       "      <th>NU_NOTA_MT</th>\n",
       "      <th>NU_NOTA_REDACAO</th>\n",
       "      <th>Q001</th>\n",
       "      <th>Q002</th>\n",
       "    </tr>\n",
       "  </thead>\n",
       "  <tbody>\n",
       "    <tr>\n",
       "      <th>0</th>\n",
       "      <td>210057943671</td>\n",
       "      <td>14</td>\n",
       "      <td>M</td>\n",
       "      <td>2</td>\n",
       "      <td>2</td>\n",
       "      <td>2</td>\n",
       "      <td>1</td>\n",
       "      <td>NaN</td>\n",
       "      <td>NaN</td>\n",
       "      <td>NaN</td>\n",
       "      <td>...</td>\n",
       "      <td>5300108</td>\n",
       "      <td>Brasília</td>\n",
       "      <td>DF</td>\n",
       "      <td>NaN</td>\n",
       "      <td>NaN</td>\n",
       "      <td>NaN</td>\n",
       "      <td>NaN</td>\n",
       "      <td>NaN</td>\n",
       "      <td>A</td>\n",
       "      <td>A</td>\n",
       "    </tr>\n",
       "    <tr>\n",
       "      <th>1</th>\n",
       "      <td>210057516120</td>\n",
       "      <td>14</td>\n",
       "      <td>M</td>\n",
       "      <td>2</td>\n",
       "      <td>1</td>\n",
       "      <td>16</td>\n",
       "      <td>1</td>\n",
       "      <td>NaN</td>\n",
       "      <td>NaN</td>\n",
       "      <td>NaN</td>\n",
       "      <td>...</td>\n",
       "      <td>5300108</td>\n",
       "      <td>Brasília</td>\n",
       "      <td>DF</td>\n",
       "      <td>NaN</td>\n",
       "      <td>NaN</td>\n",
       "      <td>NaN</td>\n",
       "      <td>NaN</td>\n",
       "      <td>NaN</td>\n",
       "      <td>D</td>\n",
       "      <td>D</td>\n",
       "    </tr>\n",
       "    <tr>\n",
       "      <th>2</th>\n",
       "      <td>210057280536</td>\n",
       "      <td>5</td>\n",
       "      <td>F</td>\n",
       "      <td>1</td>\n",
       "      <td>2</td>\n",
       "      <td>2</td>\n",
       "      <td>1</td>\n",
       "      <td>NaN</td>\n",
       "      <td>NaN</td>\n",
       "      <td>NaN</td>\n",
       "      <td>...</td>\n",
       "      <td>2925758</td>\n",
       "      <td>Presidente Tancredo Neves</td>\n",
       "      <td>BA</td>\n",
       "      <td>421.1</td>\n",
       "      <td>546.0</td>\n",
       "      <td>498.8</td>\n",
       "      <td>565.3</td>\n",
       "      <td>760.0</td>\n",
       "      <td>E</td>\n",
       "      <td>F</td>\n",
       "    </tr>\n",
       "    <tr>\n",
       "      <th>3</th>\n",
       "      <td>210055724397</td>\n",
       "      <td>6</td>\n",
       "      <td>M</td>\n",
       "      <td>1</td>\n",
       "      <td>3</td>\n",
       "      <td>2</td>\n",
       "      <td>1</td>\n",
       "      <td>NaN</td>\n",
       "      <td>NaN</td>\n",
       "      <td>NaN</td>\n",
       "      <td>...</td>\n",
       "      <td>3201308</td>\n",
       "      <td>Cariacica</td>\n",
       "      <td>ES</td>\n",
       "      <td>490.7</td>\n",
       "      <td>388.6</td>\n",
       "      <td>357.8</td>\n",
       "      <td>416.0</td>\n",
       "      <td>320.0</td>\n",
       "      <td>C</td>\n",
       "      <td>A</td>\n",
       "    </tr>\n",
       "    <tr>\n",
       "      <th>4</th>\n",
       "      <td>210055097896</td>\n",
       "      <td>4</td>\n",
       "      <td>M</td>\n",
       "      <td>0</td>\n",
       "      <td>3</td>\n",
       "      <td>1</td>\n",
       "      <td>1</td>\n",
       "      <td>NaN</td>\n",
       "      <td>NaN</td>\n",
       "      <td>NaN</td>\n",
       "      <td>...</td>\n",
       "      <td>1506203</td>\n",
       "      <td>Salinópolis</td>\n",
       "      <td>PA</td>\n",
       "      <td>NaN</td>\n",
       "      <td>NaN</td>\n",
       "      <td>NaN</td>\n",
       "      <td>NaN</td>\n",
       "      <td>NaN</td>\n",
       "      <td>D</td>\n",
       "      <td>B</td>\n",
       "    </tr>\n",
       "  </tbody>\n",
       "</table>\n",
       "<p>5 rows × 23 columns</p>\n",
       "</div>"
      ],
      "text/plain": [
       "   NU_INSCRICAO  TP_FAIXA_ETARIA TP_SEXO  TP_ESTADO_CIVIL  TP_COR_RACA  \\\n",
       "0  210057943671               14       M                2            2   \n",
       "1  210057516120               14       M                2            1   \n",
       "2  210057280536                5       F                1            2   \n",
       "3  210055724397                6       M                1            3   \n",
       "4  210055097896                4       M                0            3   \n",
       "\n",
       "   TP_ANO_CONCLUIU  TP_ESCOLA  CO_MUNICIPIO_ESC NO_MUNICIPIO_ESC  CO_UF_ESC  \\\n",
       "0                2          1               NaN              NaN        NaN   \n",
       "1               16          1               NaN              NaN        NaN   \n",
       "2                2          1               NaN              NaN        NaN   \n",
       "3                2          1               NaN              NaN        NaN   \n",
       "4                1          1               NaN              NaN        NaN   \n",
       "\n",
       "   ... CO_MUNICIPIO_PROVA         NO_MUNICIPIO_PROVA  SG_UF_PROVA  NU_NOTA_CN  \\\n",
       "0  ...            5300108                   Brasília           DF         NaN   \n",
       "1  ...            5300108                   Brasília           DF         NaN   \n",
       "2  ...            2925758  Presidente Tancredo Neves           BA       421.1   \n",
       "3  ...            3201308                  Cariacica           ES       490.7   \n",
       "4  ...            1506203                Salinópolis           PA         NaN   \n",
       "\n",
       "  NU_NOTA_CH NU_NOTA_LC  NU_NOTA_MT  NU_NOTA_REDACAO  Q001  Q002  \n",
       "0        NaN        NaN         NaN              NaN     A     A  \n",
       "1        NaN        NaN         NaN              NaN     D     D  \n",
       "2      546.0      498.8       565.3            760.0     E     F  \n",
       "3      388.6      357.8       416.0            320.0     C     A  \n",
       "4        NaN        NaN         NaN              NaN     D     B  \n",
       "\n",
       "[5 rows x 23 columns]"
      ]
     },
     "execution_count": 15,
     "metadata": {},
     "output_type": "execute_result"
    }
   ],
   "source": [
    "microDadosEnem.head()"
   ]
  },
  {
   "cell_type": "markdown",
   "id": "leading-heart",
   "metadata": {},
   "source": [
    "### Verificando a distribuição de faixa etarias dos candidato"
   ]
  },
  {
   "cell_type": "code",
   "execution_count": 41,
   "id": "spectacular-processor",
   "metadata": {},
   "outputs": [],
   "source": [
    "clSelecionadasFE = ['NU_INSCRICAO','TP_FAIXA_ETARIA']\n",
    "dfFE = microDadosEnem.filter(items = clSelecionadasFE)\n",
    "\n",
    "FaixaEtaria = {\n",
    "1: 'Menor de 17 anos',\n",
    "2: '17 anos',\n",
    "3: '18 anos',\n",
    "4: '19 anos',\n",
    "5: '20 anos',\n",
    "6: '21 anos',\n",
    "7: '22 anos',\n",
    "8: '23 anos',\n",
    "9: '24 anos',\n",
    "10: '25 anos',\n",
    "11: 'Entre 26 e 30 anos',\n",
    "12: 'Entre 31 e 35 anos',\n",
    "13: 'Entre 36 e 40 anos',\n",
    "14: 'Entre 41 e 45 anos',\n",
    "15: 'Entre 46 e 50 anos',\n",
    "16: 'Entre 51 e 55 anos',\n",
    "17: 'Entre 56 e 60 anos',\n",
    "18: 'Entre 61 e 65 anos',\n",
    "19: 'Entre 66 e 70 anos',\n",
    "20: 'Maior de 70 anos'}"
   ]
  },
  {
   "cell_type": "code",
   "execution_count": 42,
   "id": "useful-lotus",
   "metadata": {
    "scrolled": false
   },
   "outputs": [],
   "source": [
    "dfFE['NO_FAIXA_ETARIA'] = [FaixaEtaria[idade] for idade in dfFE.TP_FAIXA_ETARIA]"
   ]
  },
  {
   "cell_type": "code",
   "execution_count": 58,
   "id": "colored-greene",
   "metadata": {
    "scrolled": true
   },
   "outputs": [
    {
     "data": {
      "text/plain": [
       "18 anos               805862\n",
       "17 anos               711278\n",
       "19 anos               408115\n",
       "Menor de 17 anos      303605\n",
       "20 anos               247679\n",
       "Entre 26 e 30 anos    189700\n",
       "21 anos               165982\n",
       "22 anos               123260\n",
       "Entre 31 e 35 anos    103634\n",
       "23 anos                94849\n",
       "Entre 36 e 40 anos     74162\n",
       "24 anos                73338\n",
       "25 anos                61564\n",
       "Entre 41 e 45 anos     49735\n",
       "Entre 46 e 50 anos     30066\n",
       "Entre 51 e 55 anos     17688\n",
       "Entre 56 e 60 anos      9688\n",
       "Entre 61 e 65 anos      3817\n",
       "Entre 66 e 70 anos      1505\n",
       "Maior de 70 anos         578\n",
       "Name: NO_FAIXA_ETARIA, dtype: int64"
      ]
     },
     "execution_count": 58,
     "metadata": {},
     "output_type": "execute_result"
    }
   ],
   "source": [
    "coluna_faixaEtaria = dfFE['NO_FAIXA_ETARIA']\n",
    "coluna_faixaEtaria.value_counts()"
   ]
  },
  {
   "cell_type": "markdown",
   "id": "split-pastor",
   "metadata": {},
   "source": [
    "afim de facilitar a visualização do histograma a baixo, o eixo x está com o código de cada faixa etaria, conforme o dicionario de dados feito acima"
   ]
  },
  {
   "cell_type": "code",
   "execution_count": 62,
   "id": "compressed-climb",
   "metadata": {
    "scrolled": false
   },
   "outputs": [
    {
     "data": {
      "text/plain": [
       "<AxesSubplot:>"
      ]
     },
     "execution_count": 62,
     "metadata": {},
     "output_type": "execute_result"
    },
    {
     "data": {
      "image/png": "[encoded data removed]",
      "text/plain": [
       "<Figure size 432x288 with 1 Axes>"
      ]
     },
     "metadata": {
      "needs_background": "light"
     },
     "output_type": "display_data"
    }
   ],
   "source": [
    "coluna_faixaEtaria = dfFE['TP_FAIXA_ETARIA']\n",
    "coluna_faixaEtaria.hist(bins = 25)"
   ]
  },
  {
   "cell_type": "markdown",
   "id": "indirect-athens",
   "metadata": {},
   "source": [
    "A faixa etária com os maiores números de candidatos foi entre 17 e 19 anos, representando um impressionante total de 1925255 inscrições. O que representa 55% dos candidatos, uma vez que o ENEM teve 3476105 de inscrições.  A proximidade da idade de 18 anos com o término do ensino médio pode explicar esse pico significativo, uma vez que muitos estudantes se preparam e realizam o ENEM nessa idade para ingressar no ensino superior. Com o decorrer do tempo, observa-se que quanto maior a idade, existem menos pessoas fazendo a prova."
   ]
  },
  {
   "cell_type": "markdown",
   "id": "present-suicide",
   "metadata": {},
   "source": [
    "# Verificando quantidade de inscrições por estado"
   ]
  },
  {
   "cell_type": "code",
   "execution_count": 5,
   "id": "fourth-proportion",
   "metadata": {
    "scrolled": true
   },
   "outputs": [
    {
     "data": {
      "text/plain": [
       "SP    184295\n",
       "CE    102972\n",
       "MG     68869\n",
       "RJ     68435\n",
       "PR     50307\n",
       "GO     47563\n",
       "BA     44483\n",
       "PE     43562\n",
       "RS     41842\n",
       "PA     34897\n",
       "SC     31316\n",
       "AM     27737\n",
       "MA     27679\n",
       "PB     21483\n",
       "ES     19998\n",
       "DF     19348\n",
       "MT     16877\n",
       "RN     16701\n",
       "PI     16296\n",
       "AL     15685\n",
       "MS     13105\n",
       "SE     10802\n",
       "RO      9687\n",
       "TO      7626\n",
       "AC      4291\n",
       "AP      3869\n",
       "RR      2219\n",
       "Name: SG_UF_ESC, dtype: int64"
      ]
     },
     "execution_count": 5,
     "metadata": {},
     "output_type": "execute_result"
    }
   ],
   "source": [
    "colunaUF = microDadosEnem['SG_UF_ESC']\n",
    "colunaUF.value_counts()"
   ]
  },
  {
   "cell_type": "code",
   "execution_count": 13,
   "id": "intermediate-zimbabwe",
   "metadata": {
    "scrolled": true
   },
   "outputs": [
    {
     "data": {
      "text/plain": [
       "<AxesSubplot:>"
      ]
     },
     "execution_count": 13,
     "metadata": {},
     "output_type": "execute_result"
    },
    {
     "data": {
      "image/png": "[encoded data removed]",
      "text/plain": [
       "<Figure size 720x360 with 1 Axes>"
      ]
     },
     "metadata": {
      "needs_background": "light"
     },
     "output_type": "display_data"
    }
   ],
   "source": [
    "colunaUF.hist(bins = 30, figsize=(10, 5))"
   ]
  },
  {
   "cell_type": "markdown",
   "id": "extraordinary-bikini",
   "metadata": {},
   "source": [
    "Analisando as inscrições por estado, pode verificar que em sua grande parte, é proporcional ao número populacional. Com excessão de algumas particularidades, como o estado do Ceará por exemplo ser o segundo com mais inscrições, mesmo sendo apenas o 8º mais populoso."
   ]
  },
  {
   "cell_type": "markdown",
   "id": "middle-bundle",
   "metadata": {},
   "source": [
    "# Analise da quantidade de inscrições por cor/raça"
   ]
  },
  {
   "cell_type": "code",
   "execution_count": 21,
   "id": "oriental-killing",
   "metadata": {},
   "outputs": [],
   "source": [
    "cor_raca = ['NU_INSCRICAO','TP_COR_RACA']\n",
    "dfcor_raca = microDadosEnem.filter(items = cor_raca)"
   ]
  },
  {
   "cell_type": "code",
   "execution_count": 22,
   "id": "further-painting",
   "metadata": {},
   "outputs": [],
   "source": [
    "DICT_COR_RACA = {0: 'Nao declarado', 1: 'Branca', 2: 'Preta', 3: 'Parda', 4: 'Amarela', 5: 'Indigena', 6: 'Nao dispoe da informacao'}\n",
    "\n",
    "dfcor_raca['NO_COR_RACA'] = [DICT_COR_RACA[cor] for cor in dfcor_raca.TP_COR_RACA]"
   ]
  },
  {
   "cell_type": "markdown",
   "id": "furnished-penny",
   "metadata": {},
   "source": [
    "#### Número absoluto"
   ]
  },
  {
   "cell_type": "code",
   "execution_count": 24,
   "id": "common-density",
   "metadata": {
    "scrolled": true
   },
   "outputs": [
    {
     "data": {
      "text/plain": [
       "Parda            1488844\n",
       "Branca           1428081\n",
       "Preta             408422\n",
       "Amarela            66051\n",
       "Nao declarado      64867\n",
       "Indigena           19840\n",
       "Name: NO_COR_RACA, dtype: int64"
      ]
     },
     "execution_count": 24,
     "metadata": {},
     "output_type": "execute_result"
    }
   ],
   "source": [
    "coluna_raca = dfcor_raca['NO_COR_RACA']\n",
    "nAbsol = coluna_raca.value_counts()\n",
    "nAbsol"
   ]
  },
  {
   "cell_type": "markdown",
   "id": "pending-definition",
   "metadata": {},
   "source": [
    "#### Percentual"
   ]
  },
  {
   "cell_type": "code",
   "execution_count": 26,
   "id": "robust-surname",
   "metadata": {
    "scrolled": true
   },
   "outputs": [
    {
     "data": {
      "text/plain": [
       "Parda            42.830812\n",
       "Branca           41.082792\n",
       "Preta            11.749415\n",
       "Amarela           1.900144\n",
       "Nao declarado     1.866083\n",
       "Indigena          0.570754\n",
       "Name: NO_COR_RACA, dtype: float64"
      ]
     },
     "execution_count": 26,
     "metadata": {},
     "output_type": "execute_result"
    }
   ],
   "source": [
    "(nAbsol/nAbsol.sum())*100"
   ]
  },
  {
   "cell_type": "markdown",
   "id": "military-military",
   "metadata": {},
   "source": [
    "A distribuição de inscritos por cor/raça, é também proporcional a população geral no país. \n",
    "Segundo o IBGE temos a seguinte porcentagem de raça/cor no Brasil:\n",
    "\n",
    "Parda: 45,3%\n",
    "\n",
    "Branca: 42,8%\n",
    "\n",
    "Preta: 10,6%\n",
    "\n",
    "Amarela: 0,83%\n",
    "\n",
    "Indígena: 0,47%"
   ]
  },
  {
   "cell_type": "markdown",
   "id": "healthy-protection",
   "metadata": {},
   "source": [
    "# Analisando distribuição das notas dos candidatos das provas"
   ]
  },
  {
   "cell_type": "code",
   "execution_count": 90,
   "id": "smaller-presentation",
   "metadata": {
    "scrolled": true
   },
   "outputs": [
    {
     "data": {
      "text/plain": [
       "<AxesSubplot:>"
      ]
     },
     "execution_count": 90,
     "metadata": {},
     "output_type": "execute_result"
    },
    {
     "data": {
      "image/png": "[encoded data removed]",
      "text/plain": [
       "<Figure size 576x360 with 1 Axes>"
      ]
     },
     "metadata": {
      "needs_background": "light"
     },
     "output_type": "display_data"
    }
   ],
   "source": [
    "microDadosEnem['NU_NOTA_REDACAO'].hist(bins=45, figsize=(8, 5))"
   ]
  },
  {
   "cell_type": "code",
   "execution_count": 89,
   "id": "starting-university",
   "metadata": {},
   "outputs": [
    {
     "data": {
      "text/plain": [
       "<AxesSubplot:>"
      ]
     },
     "execution_count": 89,
     "metadata": {},
     "output_type": "execute_result"
    },
    {
     "data": {
      "image/png": "[encoded data removed]",
      "text/plain": [
       "<Figure size 576x360 with 1 Axes>"
      ]
     },
     "metadata": {
      "needs_background": "light"
     },
     "output_type": "display_data"
    }
   ],
   "source": [
    "microDadosEnem['NU_NOTA_MT'].hist(bins=45, figsize=(8, 5))"
   ]
  },
  {
   "cell_type": "code",
   "execution_count": 88,
   "id": "valued-lesson",
   "metadata": {
    "scrolled": true
   },
   "outputs": [
    {
     "data": {
      "text/plain": [
       "<AxesSubplot:>"
      ]
     },
     "execution_count": 88,
     "metadata": {},
     "output_type": "execute_result"
    },
    {
     "data": {
      "image/png": "[encoded data removed]",
      "text/plain": [
       "<Figure size 576x360 with 1 Axes>"
      ]
     },
     "metadata": {
      "needs_background": "light"
     },
     "output_type": "display_data"
    }
   ],
   "source": [
    "microDadosEnem['NU_NOTA_CN'].hist(bins=45, figsize=(8, 5))"
   ]
  },
  {
   "cell_type": "code",
   "execution_count": 92,
   "id": "hairy-beast",
   "metadata": {
    "scrolled": true
   },
   "outputs": [
    {
     "data": {
      "text/plain": [
       "<AxesSubplot:>"
      ]
     },
     "execution_count": 92,
     "metadata": {},
     "output_type": "execute_result"
    },
    {
     "data": {
      "image/png": "[encoded data removed]",
      "text/plain": [
       "<Figure size 576x360 with 1 Axes>"
      ]
     },
     "metadata": {
      "needs_background": "light"
     },
     "output_type": "display_data"
    }
   ],
   "source": [
    "microDadosEnem['NU_NOTA_CH'].hist(bins=45, figsize=(8, 5))"
   ]
  },
  {
   "cell_type": "code",
   "execution_count": 93,
   "id": "divine-pizza",
   "metadata": {
    "scrolled": true
   },
   "outputs": [
    {
     "data": {
      "text/plain": [
       "<AxesSubplot:>"
      ]
     },
     "execution_count": 93,
     "metadata": {},
     "output_type": "execute_result"
    },
    {
     "data": {
      "image/png": "[encoded data removed]",
      "text/plain": [
       "<Figure size 576x360 with 1 Axes>"
      ]
     },
     "metadata": {
      "needs_background": "light"
     },
     "output_type": "display_data"
    }
   ],
   "source": [
    "microDadosEnem['NU_NOTA_LC'].hist(bins=45, figsize=(8, 5))"
   ]
  },
  {
   "cell_type": "code",
   "execution_count": 104,
   "id": "amber-williams",
   "metadata": {
    "scrolled": true
   },
   "outputs": [
    {
     "data": {
      "text/html": [
       "<div>\n",
       "<style scoped>\n",
       "    .dataframe tbody tr th:only-of-type {\n",
       "        vertical-align: middle;\n",
       "    }\n",
       "\n",
       "    .dataframe tbody tr th {\n",
       "        vertical-align: top;\n",
       "    }\n",
       "\n",
       "    .dataframe thead th {\n",
       "        text-align: right;\n",
       "    }\n",
       "</style>\n",
       "<table border=\"1\" class=\"dataframe\">\n",
       "  <thead>\n",
       "    <tr style=\"text-align: right;\">\n",
       "      <th></th>\n",
       "      <th>NU_NOTA_REDACAO</th>\n",
       "      <th>NU_NOTA_MT</th>\n",
       "      <th>NU_NOTA_CN</th>\n",
       "      <th>NU_NOTA_LC</th>\n",
       "      <th>NU_NOTA_CH</th>\n",
       "    </tr>\n",
       "  </thead>\n",
       "  <tbody>\n",
       "    <tr>\n",
       "      <th>count</th>\n",
       "      <td>2493442.00</td>\n",
       "      <td>2355395.00</td>\n",
       "      <td>2355395.00</td>\n",
       "      <td>2493442.00</td>\n",
       "      <td>2493442.00</td>\n",
       "    </tr>\n",
       "    <tr>\n",
       "      <th>mean</th>\n",
       "      <td>618.48</td>\n",
       "      <td>542.50</td>\n",
       "      <td>495.93</td>\n",
       "      <td>517.44</td>\n",
       "      <td>526.95</td>\n",
       "    </tr>\n",
       "    <tr>\n",
       "      <th>std</th>\n",
       "      <td>212.21</td>\n",
       "      <td>116.02</td>\n",
       "      <td>72.01</td>\n",
       "      <td>77.55</td>\n",
       "      <td>81.48</td>\n",
       "    </tr>\n",
       "    <tr>\n",
       "      <th>min</th>\n",
       "      <td>0.00</td>\n",
       "      <td>0.00</td>\n",
       "      <td>0.00</td>\n",
       "      <td>0.00</td>\n",
       "      <td>0.00</td>\n",
       "    </tr>\n",
       "    <tr>\n",
       "      <th>25%</th>\n",
       "      <td>520.00</td>\n",
       "      <td>449.00</td>\n",
       "      <td>440.50</td>\n",
       "      <td>468.40</td>\n",
       "      <td>477.00</td>\n",
       "    </tr>\n",
       "    <tr>\n",
       "      <th>50%</th>\n",
       "      <td>620.00</td>\n",
       "      <td>530.80</td>\n",
       "      <td>485.60</td>\n",
       "      <td>525.50</td>\n",
       "      <td>529.90</td>\n",
       "    </tr>\n",
       "    <tr>\n",
       "      <th>75%</th>\n",
       "      <td>760.00</td>\n",
       "      <td>622.40</td>\n",
       "      <td>543.30</td>\n",
       "      <td>573.20</td>\n",
       "      <td>581.90</td>\n",
       "    </tr>\n",
       "    <tr>\n",
       "      <th>max</th>\n",
       "      <td>1000.00</td>\n",
       "      <td>985.70</td>\n",
       "      <td>875.30</td>\n",
       "      <td>801.00</td>\n",
       "      <td>839.20</td>\n",
       "    </tr>\n",
       "  </tbody>\n",
       "</table>\n",
       "</div>"
      ],
      "text/plain": [
       "       NU_NOTA_REDACAO  NU_NOTA_MT  NU_NOTA_CN  NU_NOTA_LC  NU_NOTA_CH\n",
       "count       2493442.00  2355395.00  2355395.00  2493442.00  2493442.00\n",
       "mean            618.48      542.50      495.93      517.44      526.95\n",
       "std             212.21      116.02       72.01       77.55       81.48\n",
       "min               0.00        0.00        0.00        0.00        0.00\n",
       "25%             520.00      449.00      440.50      468.40      477.00\n",
       "50%             620.00      530.80      485.60      525.50      529.90\n",
       "75%             760.00      622.40      543.30      573.20      581.90\n",
       "max            1000.00      985.70      875.30      801.00      839.20"
      ]
     },
     "execution_count": 104,
     "metadata": {},
     "output_type": "execute_result"
    }
   ],
   "source": [
    "round(microDadosEnem[['NU_NOTA_REDACAO', 'NU_NOTA_MT', 'NU_NOTA_CN', 'NU_NOTA_LC', 'NU_NOTA_CH']].describe(), 2)"
   ]
  },
  {
   "cell_type": "markdown",
   "id": "generous-expert",
   "metadata": {},
   "source": [
    "Ao analisar a distribuição das notas dos participantes no ENEM, observamos padrões interessantes em relação ao desempenho dos estudantes nas diferentes provas. Essas análises nos fornecem insights valiosos sobre as áreas em que os candidatos obtiveram melhor ou pior desempenho, bem como a dispersão geral das notas em cada disciplina.\n",
    "\n",
    "A prova de redação apresentou uma distribuição ampla, o que sugere que os candidatos obtiveram resultados variados nessa área. Esse cenário é esperado, considerando que a redação é uma prova subjetiva, na qual aspectos como estilo de escrita, coesão e argumentação desempenham um papel crucial. A existência de concentração em praticamente todo o range de notas indica que houve participantes que se destacaram, enquanto outros podem ter encontrado maiores desafios nesse aspecto.\n",
    "\n",
    "Na prova de matemática, também encontramos uma distribuição relativamente bem dispersa, embora com uma concentração maior em torno de 540 pontos. Isso pode indicar que muitos estudantes obtiveram pontuações próximas a essa marca, sugerindo um nível médio de desempenho nessa disciplina. No entanto, é interessante notar que houve também candidatos com resultados mais baixos e mais altos, o que demonstra a diversidade de habilidades matemáticas dos participantes.\n",
    "\n",
    "A análise da prova de ciências da natureza revelou que os candidatos obtiveram, em média, as notas mais baixas em comparação com as outras disciplinas. A concentração significativa em torno dos 460 pontos indica que muitos candidatos enfrentaram desafios nessa prova específica. Além disso, a alta concentração na extremidade esqueda, e baixa concentração na extremidade direita, sugere que houve poucos candidatos com notas muito altas, o que pode ser reflexo da complexidade das questões dessa área.\n",
    "\n",
    "Por outro lado, a prova de ciências humanas apresentou uma distribuição mais centralizada, com notas médias em torno de 526 pontos. Essa distribuição linear tanto antes quanto depois da média sugere que muitos candidatos obtiveram pontuações próximas à média, sem grandes disparidades. Isso pode indicar uma maior homogeneidade no desempenho dos estudantes nessa disciplina, com uma quantidade significativa de candidatos com resultados moderados.\n",
    "\n",
    "De forma similar à prova de ciências humanas, a prova de linguagens e códigos e suas tecnologias também teve uma distribuição centralizada, com notas médias próximas a 517 pontos. No entanto, essa prova apresentou uma concentração ligeiramente menor do que a prova de ciências humanas, o que pode indicar uma maior variabilidade no desempenho dos candidatos nessa área.\n",
    "\n",
    "Essas análises ressaltam a importância de considerar as particularidades de cada disciplina e do exame como um todo. O ENEM abrange uma variedade de conhecimentos e habilidades, e as características de cada prova podem influenciar a distribuição das notas. Os insights obtidos podem auxiliar educadores e formuladores de políticas a identificar áreas que demandam maior atenção e a desenvolver estratégias para aprimorar o ensino e o aprendizado em disciplinas específicas.\n",
    "\n",
    "Ademais, as informações sobre a distribuição das notas podem ser úteis para os próprios candidatos, que podem se beneficiar ao identificar suas áreas de força e fraqueza, a fim de direcionar seus esforços de estudo e preparação para futuros exames e oportunidades educacionais."
   ]
  },
  {
   "cell_type": "markdown",
   "id": "second-klein",
   "metadata": {},
   "source": [
    "# Analisando informações referente ao sexo dos participantes"
   ]
  },
  {
   "cell_type": "markdown",
   "id": "boring-street",
   "metadata": {},
   "source": [
    "#### Número absoluto"
   ]
  },
  {
   "cell_type": "code",
   "execution_count": 27,
   "id": "bearing-butterfly",
   "metadata": {
    "scrolled": true
   },
   "outputs": [
    {
     "data": {
      "text/plain": [
       "F    2120519\n",
       "M    1355586\n",
       "Name: TP_SEXO, dtype: int64"
      ]
     },
     "execution_count": 27,
     "metadata": {},
     "output_type": "execute_result"
    }
   ],
   "source": [
    "coluna_sexo = microDadosEnem['TP_SEXO']\n",
    "percentsexo = coluna_sexo.value_counts()\n",
    "percentsexo"
   ]
  },
  {
   "cell_type": "markdown",
   "id": "atomic-cambridge",
   "metadata": {},
   "source": [
    "#### Percentual"
   ]
  },
  {
   "cell_type": "code",
   "execution_count": 28,
   "id": "pressed-youth",
   "metadata": {
    "scrolled": false
   },
   "outputs": [
    {
     "data": {
      "text/plain": [
       "F    61.002732\n",
       "M    38.997268\n",
       "Name: TP_SEXO, dtype: float64"
      ]
     },
     "execution_count": 28,
     "metadata": {},
     "output_type": "execute_result"
    }
   ],
   "source": [
    "(percentsexo/percentsexo.sum())*100"
   ]
  },
  {
   "cell_type": "markdown",
   "id": "threaded-vocabulary",
   "metadata": {},
   "source": [
    "#### Verificando se o sexo diz algo relevante sobre a nota de redação"
   ]
  },
  {
   "cell_type": "code",
   "execution_count": 35,
   "id": "nasty-section",
   "metadata": {
    "scrolled": true
   },
   "outputs": [
    {
     "data": {
      "text/html": [
       "<div>\n",
       "<style scoped>\n",
       "    .dataframe tbody tr th:only-of-type {\n",
       "        vertical-align: middle;\n",
       "    }\n",
       "\n",
       "    .dataframe tbody tr th {\n",
       "        vertical-align: top;\n",
       "    }\n",
       "\n",
       "    .dataframe thead tr th {\n",
       "        text-align: left;\n",
       "    }\n",
       "\n",
       "    .dataframe thead tr:last-of-type th {\n",
       "        text-align: right;\n",
       "    }\n",
       "</style>\n",
       "<table border=\"1\" class=\"dataframe\">\n",
       "  <thead>\n",
       "    <tr>\n",
       "      <th></th>\n",
       "      <th colspan=\"8\" halign=\"left\">NU_NOTA_REDACAO</th>\n",
       "    </tr>\n",
       "    <tr>\n",
       "      <th></th>\n",
       "      <th>count</th>\n",
       "      <th>mean</th>\n",
       "      <th>std</th>\n",
       "      <th>min</th>\n",
       "      <th>25%</th>\n",
       "      <th>50%</th>\n",
       "      <th>75%</th>\n",
       "      <th>max</th>\n",
       "    </tr>\n",
       "    <tr>\n",
       "      <th>TP_SEXO</th>\n",
       "      <th></th>\n",
       "      <th></th>\n",
       "      <th></th>\n",
       "      <th></th>\n",
       "      <th></th>\n",
       "      <th></th>\n",
       "      <th></th>\n",
       "      <th></th>\n",
       "    </tr>\n",
       "  </thead>\n",
       "  <tbody>\n",
       "    <tr>\n",
       "      <th>F</th>\n",
       "      <td>1530098.0</td>\n",
       "      <td>628.922919</td>\n",
       "      <td>213.217841</td>\n",
       "      <td>0.0</td>\n",
       "      <td>540.0</td>\n",
       "      <td>640.0</td>\n",
       "      <td>780.0</td>\n",
       "      <td>1000.0</td>\n",
       "    </tr>\n",
       "    <tr>\n",
       "      <th>M</th>\n",
       "      <td>963344.0</td>\n",
       "      <td>601.892533</td>\n",
       "      <td>209.538737</td>\n",
       "      <td>0.0</td>\n",
       "      <td>520.0</td>\n",
       "      <td>600.0</td>\n",
       "      <td>740.0</td>\n",
       "      <td>1000.0</td>\n",
       "    </tr>\n",
       "  </tbody>\n",
       "</table>\n",
       "</div>"
      ],
      "text/plain": [
       "        NU_NOTA_REDACAO                                                    \\\n",
       "                  count        mean         std  min    25%    50%    75%   \n",
       "TP_SEXO                                                                     \n",
       "F             1530098.0  628.922919  213.217841  0.0  540.0  640.0  780.0   \n",
       "M              963344.0  601.892533  209.538737  0.0  520.0  600.0  740.0   \n",
       "\n",
       "                 \n",
       "            max  \n",
       "TP_SEXO          \n",
       "F        1000.0  \n",
       "M        1000.0  "
      ]
     },
     "execution_count": 35,
     "metadata": {},
     "output_type": "execute_result"
    }
   ],
   "source": [
    "colunaSelecionadas = ['TP_SEXO', 'NU_NOTA_REDACAO']\n",
    "MicroDadosSexoRed = microDadosEnem.filter(items = colunaSelecionadas)\n",
    "MicroDadosSexoRed = MicroDadosSexoRed.dropna()\n",
    "MicroDadosSexoRed.groupby('TP_SEXO').describe()\n"
   ]
  },
  {
   "cell_type": "code",
   "execution_count": 36,
   "id": "taken-mailing",
   "metadata": {
    "scrolled": false
   },
   "outputs": [
    {
     "name": "stderr",
     "output_type": "stream",
     "text": [
      "C:\\Users\\andre\\anaconda3\\lib\\site-packages\\ipykernel_launcher.py:3: UserWarning: Boolean Series key will be reindexed to match DataFrame index.\n",
      "  This is separate from the ipykernel package so we can avoid doing imports until\n"
     ]
    },
    {
     "data": {
      "text/plain": [
       "TP_SEXO\n",
       "F    [[AxesSubplot(0.125,0.125;0.775x0.755)]]\n",
       "M    [[AxesSubplot(0.125,0.125;0.775x0.755)]]\n",
       "dtype: object"
      ]
     },
     "execution_count": 36,
     "metadata": {},
     "output_type": "execute_result"
    },
    {
     "data": {
      "image/png": "[encoded data removed]",
      "text/plain": [
       "<Figure size 432x288 with 1 Axes>"
      ]
     },
     "metadata": {
      "needs_background": "light"
     },
     "output_type": "display_data"
    },
    {
     "data": {
      "image/png": "[encoded data removed]",
      "text/plain": [
       "<Figure size 432x288 with 1 Axes>"
      ]
     },
     "metadata": {
      "needs_background": "light"
     },
     "output_type": "display_data"
    }
   ],
   "source": [
    "colunaNotaRed = microDadosEnem['NU_NOTA_REDACAO']\n",
    "MicroDadosSexoRed[colunaNotaRed >0].groupby('TP_SEXO').hist(bins =27)"
   ]
  },
  {
   "cell_type": "markdown",
   "id": "vietnamese-cancellation",
   "metadata": {},
   "source": [
    "#### Analisando nota de matemática por sexo"
   ]
  },
  {
   "cell_type": "code",
   "execution_count": 47,
   "id": "spanish-cooper",
   "metadata": {},
   "outputs": [
    {
     "data": {
      "text/html": [
       "<div>\n",
       "<style scoped>\n",
       "    .dataframe tbody tr th:only-of-type {\n",
       "        vertical-align: middle;\n",
       "    }\n",
       "\n",
       "    .dataframe tbody tr th {\n",
       "        vertical-align: top;\n",
       "    }\n",
       "\n",
       "    .dataframe thead tr th {\n",
       "        text-align: left;\n",
       "    }\n",
       "\n",
       "    .dataframe thead tr:last-of-type th {\n",
       "        text-align: right;\n",
       "    }\n",
       "</style>\n",
       "<table border=\"1\" class=\"dataframe\">\n",
       "  <thead>\n",
       "    <tr>\n",
       "      <th></th>\n",
       "      <th colspan=\"8\" halign=\"left\">NU_NOTA_MT</th>\n",
       "    </tr>\n",
       "    <tr>\n",
       "      <th></th>\n",
       "      <th>count</th>\n",
       "      <th>mean</th>\n",
       "      <th>std</th>\n",
       "      <th>min</th>\n",
       "      <th>25%</th>\n",
       "      <th>50%</th>\n",
       "      <th>75%</th>\n",
       "      <th>max</th>\n",
       "    </tr>\n",
       "    <tr>\n",
       "      <th>TP_SEXO</th>\n",
       "      <th></th>\n",
       "      <th></th>\n",
       "      <th></th>\n",
       "      <th></th>\n",
       "      <th></th>\n",
       "      <th></th>\n",
       "      <th></th>\n",
       "      <th></th>\n",
       "    </tr>\n",
       "  </thead>\n",
       "  <tbody>\n",
       "    <tr>\n",
       "      <th>F</th>\n",
       "      <td>1442276.0</td>\n",
       "      <td>526.608884</td>\n",
       "      <td>109.869121</td>\n",
       "      <td>0.0</td>\n",
       "      <td>438.6</td>\n",
       "      <td>512.1</td>\n",
       "      <td>602.2</td>\n",
       "      <td>985.7</td>\n",
       "    </tr>\n",
       "    <tr>\n",
       "      <th>M</th>\n",
       "      <td>913119.0</td>\n",
       "      <td>567.608393</td>\n",
       "      <td>120.943996</td>\n",
       "      <td>0.0</td>\n",
       "      <td>471.3</td>\n",
       "      <td>562.8</td>\n",
       "      <td>651.0</td>\n",
       "      <td>985.7</td>\n",
       "    </tr>\n",
       "  </tbody>\n",
       "</table>\n",
       "</div>"
      ],
      "text/plain": [
       "        NU_NOTA_MT                                                         \n",
       "             count        mean         std  min    25%    50%    75%    max\n",
       "TP_SEXO                                                                    \n",
       "F        1442276.0  526.608884  109.869121  0.0  438.6  512.1  602.2  985.7\n",
       "M         913119.0  567.608393  120.943996  0.0  471.3  562.8  651.0  985.7"
      ]
     },
     "execution_count": 47,
     "metadata": {},
     "output_type": "execute_result"
    }
   ],
   "source": [
    "colunaSelecionadas = ['TP_SEXO', 'NU_NOTA_MT']\n",
    "MicroDadosSexoMt = microDadosEnem.filter(items = colunaSelecionadas)\n",
    "MicroDadosSexoMt = MicroDadosSexoMt.dropna()\n",
    "MicroDadosSexoMt.groupby('TP_SEXO').describe()"
   ]
  },
  {
   "cell_type": "markdown",
   "id": "mighty-column",
   "metadata": {},
   "source": [
    "Ao realizar uma análise para verificar se o sexo dos candidatos influencia as notas de redação no ENEM, constatei que os resultados indicam uma tendência de similaridade entre os gêneros. Em outras palavras, não parece haver uma relação significativa entre o sexo dos candidatos e suas pontuações na prova de redação.\n",
    "\n",
    "Esse achado é relevante, pois evidencia que, no geral, homens e mulheres apresentam desempenhos semelhantes quando se trata de habilidade acadêmicas. Essa conclusão é valiosa, pois indica que, pelo menos na amostra analisada, não existem diferenças marcantes entre os sexos em relação à proficiência nessa área específica.\n",
    "\n",
    "Essa constatação pode ser interpretada de diversas maneiras. Em primeiro lugar, sugere que ambos os gêneros estão igualmente preparados para enfrentar os desafios propostos ENEM. Isso ressalta a importância de um sistema educacional inclusivo e aberto a todos, independentemente do sexo, proporcionando oportunidades iguais para que os estudantes desenvolvam suas habilidades de escrita.\n",
    "\n",
    "Além disso, a ausência de diferenças significativas nas entre homens e mulheres pode ser um indicativo da equidade de gênero no acesso à educação e na igualdade de oportunidades educacionais. Mostra que as políticas e práticas educacionais estão permitindo que ambos os gêneros alcancem resultados semelhantes, proporcionando um ambiente de aprendizado justo e igualitário.\n",
    "\n",
    "Contudo, é importante mencionar que, embora a análise indique uma tendência de similaridade nas notas de redação entre os sexos, existem diversas outras variáveis que podem influenciar o desempenho dos candidatos, como a preparação prévia, o contexto socioeconômico, o acesso a recursos educacionais, entre outros. Portanto, esses fatores devem ser levados em consideração em análises mais abrangentes sobre o desempenho dos estudantes no ENEM e em outras avaliações educacionais."
   ]
  },
  {
   "cell_type": "markdown",
   "id": "imposed-circus",
   "metadata": {},
   "source": [
    "# Indicadores Socioeconômicos"
   ]
  },
  {
   "cell_type": "markdown",
   "id": "bright-shanghai",
   "metadata": {},
   "source": [
    "Definindo dicionário de dados com as colunas Q001 e Q002\n",
    "\n",
    "Q001 = Até que série seu pai, ou o homem responsável por você, estudou?\n",
    "\n",
    "Q002 = Até que série sua mãe, ou a mulher responsável por você, estudou?"
   ]
  },
  {
   "cell_type": "code",
   "execution_count": 49,
   "id": "intermediate-overhead",
   "metadata": {},
   "outputs": [],
   "source": [
    "clSelecionadasIs = ['NU_INSCRICAO', 'SG_UF_ESC', 'NU_NOTA_REDACAO', 'Q001', 'Q002', 'NU_NOTA_MT']\n",
    "dfIS = microDadosEnem.filter(items = clSelecionadasIs)\n",
    "dfIS = dfIS.dropna()\n",
    "Q001_Q002 = {\n",
    "'A': 'Nunca estudou',\n",
    "'B': 'Não completou a 4ª série/5º ano do Ensino Fundamental',\n",
    "'C': 'Completou a 4ª série/5º ano, mas não completou a 8ª série/9º ano do Ensino Fundamental',\n",
    "'D': 'Completou a 8ª série/9º ano do Ensino Fundamental, mas não completou o Ensino Médio',\n",
    "'E': 'Completou o Ensino Médio, mas não completou a Faculdade',\n",
    "'F': 'Completou a Faculdade, mas não completou a Pós-graduação',\n",
    "'G': 'Completou a Pós-graduação',\n",
    "'H': 'Nao sei'}"
   ]
  },
  {
   "cell_type": "code",
   "execution_count": 50,
   "id": "optical-indiana",
   "metadata": {},
   "outputs": [],
   "source": [
    "dfIS['NO_Q001'] = [Q001_Q002[resposta] for resposta in dfIS.Q001]"
   ]
  },
  {
   "cell_type": "code",
   "execution_count": 51,
   "id": "certain-valley",
   "metadata": {},
   "outputs": [],
   "source": [
    "dfIS['NO_Q002'] = [Q001_Q002[resposta] for resposta in dfIS.Q002]"
   ]
  },
  {
   "cell_type": "code",
   "execution_count": 52,
   "id": "otherwise-nightlife",
   "metadata": {
    "scrolled": true
   },
   "outputs": [
    {
     "data": {
      "text/html": [
       "<div>\n",
       "<style scoped>\n",
       "    .dataframe tbody tr th:only-of-type {\n",
       "        vertical-align: middle;\n",
       "    }\n",
       "\n",
       "    .dataframe tbody tr th {\n",
       "        vertical-align: top;\n",
       "    }\n",
       "\n",
       "    .dataframe thead th {\n",
       "        text-align: right;\n",
       "    }\n",
       "</style>\n",
       "<table border=\"1\" class=\"dataframe\">\n",
       "  <thead>\n",
       "    <tr style=\"text-align: right;\">\n",
       "      <th></th>\n",
       "      <th>NU_INSCRICAO</th>\n",
       "      <th>SG_UF_ESC</th>\n",
       "      <th>NU_NOTA_REDACAO</th>\n",
       "      <th>Q001</th>\n",
       "      <th>Q002</th>\n",
       "      <th>NU_NOTA_MT</th>\n",
       "      <th>NO_Q001</th>\n",
       "      <th>NO_Q002</th>\n",
       "    </tr>\n",
       "  </thead>\n",
       "  <tbody>\n",
       "    <tr>\n",
       "      <th>40</th>\n",
       "      <td>210056717205</td>\n",
       "      <td>CE</td>\n",
       "      <td>560.0</td>\n",
       "      <td>C</td>\n",
       "      <td>D</td>\n",
       "      <td>430.4</td>\n",
       "      <td>Completou a 4ª série/5º ano, mas não completou...</td>\n",
       "      <td>Completou a 8ª série/9º ano do Ensino Fundamen...</td>\n",
       "    </tr>\n",
       "    <tr>\n",
       "      <th>55</th>\n",
       "      <td>210056012033</td>\n",
       "      <td>SP</td>\n",
       "      <td>900.0</td>\n",
       "      <td>D</td>\n",
       "      <td>F</td>\n",
       "      <td>905.5</td>\n",
       "      <td>Completou a 8ª série/9º ano do Ensino Fundamen...</td>\n",
       "      <td>Completou a Faculdade, mas não completou a Pós...</td>\n",
       "    </tr>\n",
       "    <tr>\n",
       "      <th>57</th>\n",
       "      <td>210056292241</td>\n",
       "      <td>GO</td>\n",
       "      <td>740.0</td>\n",
       "      <td>C</td>\n",
       "      <td>D</td>\n",
       "      <td>551.9</td>\n",
       "      <td>Completou a 4ª série/5º ano, mas não completou...</td>\n",
       "      <td>Completou a 8ª série/9º ano do Ensino Fundamen...</td>\n",
       "    </tr>\n",
       "    <tr>\n",
       "      <th>59</th>\n",
       "      <td>210054772114</td>\n",
       "      <td>PA</td>\n",
       "      <td>520.0</td>\n",
       "      <td>E</td>\n",
       "      <td>E</td>\n",
       "      <td>433.6</td>\n",
       "      <td>Completou o Ensino Médio, mas não completou a ...</td>\n",
       "      <td>Completou o Ensino Médio, mas não completou a ...</td>\n",
       "    </tr>\n",
       "    <tr>\n",
       "      <th>67</th>\n",
       "      <td>210055580862</td>\n",
       "      <td>RJ</td>\n",
       "      <td>540.0</td>\n",
       "      <td>D</td>\n",
       "      <td>E</td>\n",
       "      <td>438.0</td>\n",
       "      <td>Completou a 8ª série/9º ano do Ensino Fundamen...</td>\n",
       "      <td>Completou o Ensino Médio, mas não completou a ...</td>\n",
       "    </tr>\n",
       "  </tbody>\n",
       "</table>\n",
       "</div>"
      ],
      "text/plain": [
       "    NU_INSCRICAO SG_UF_ESC  NU_NOTA_REDACAO Q001 Q002  NU_NOTA_MT  \\\n",
       "40  210056717205        CE            560.0    C    D       430.4   \n",
       "55  210056012033        SP            900.0    D    F       905.5   \n",
       "57  210056292241        GO            740.0    C    D       551.9   \n",
       "59  210054772114        PA            520.0    E    E       433.6   \n",
       "67  210055580862        RJ            540.0    D    E       438.0   \n",
       "\n",
       "                                              NO_Q001  \\\n",
       "40  Completou a 4ª série/5º ano, mas não completou...   \n",
       "55  Completou a 8ª série/9º ano do Ensino Fundamen...   \n",
       "57  Completou a 4ª série/5º ano, mas não completou...   \n",
       "59  Completou o Ensino Médio, mas não completou a ...   \n",
       "67  Completou a 8ª série/9º ano do Ensino Fundamen...   \n",
       "\n",
       "                                              NO_Q002  \n",
       "40  Completou a 8ª série/9º ano do Ensino Fundamen...  \n",
       "55  Completou a Faculdade, mas não completou a Pós...  \n",
       "57  Completou a 8ª série/9º ano do Ensino Fundamen...  \n",
       "59  Completou o Ensino Médio, mas não completou a ...  \n",
       "67  Completou o Ensino Médio, mas não completou a ...  "
      ]
     },
     "execution_count": 52,
     "metadata": {},
     "output_type": "execute_result"
    }
   ],
   "source": [
    "dfIS.head(5)"
   ]
  },
  {
   "cell_type": "markdown",
   "id": "oriental-century",
   "metadata": {},
   "source": [
    "### Verificando distribuição da escolaridade do pai"
   ]
  },
  {
   "cell_type": "code",
   "execution_count": 53,
   "id": "improved-robinson",
   "metadata": {},
   "outputs": [
    {
     "data": {
      "text/html": [
       "<div>\n",
       "<style scoped>\n",
       "    .dataframe tbody tr th:only-of-type {\n",
       "        vertical-align: middle;\n",
       "    }\n",
       "\n",
       "    .dataframe tbody tr th {\n",
       "        vertical-align: top;\n",
       "    }\n",
       "\n",
       "    .dataframe thead th {\n",
       "        text-align: right;\n",
       "    }\n",
       "</style>\n",
       "<table border=\"1\" class=\"dataframe\">\n",
       "  <thead>\n",
       "    <tr style=\"text-align: right;\">\n",
       "      <th></th>\n",
       "      <th>NU_INSCRICAO</th>\n",
       "    </tr>\n",
       "    <tr>\n",
       "      <th>NO_Q001</th>\n",
       "      <th></th>\n",
       "    </tr>\n",
       "  </thead>\n",
       "  <tbody>\n",
       "    <tr>\n",
       "      <th>Completou o Ensino Médio, mas não completou a Faculdade</th>\n",
       "      <td>224216</td>\n",
       "    </tr>\n",
       "    <tr>\n",
       "      <th>Completou a Faculdade, mas não completou a Pós-graduação</th>\n",
       "      <td>84773</td>\n",
       "    </tr>\n",
       "    <tr>\n",
       "      <th>Completou a 8ª série/9º ano do Ensino Fundamental, mas não completou o Ensino Médio</th>\n",
       "      <td>79788</td>\n",
       "    </tr>\n",
       "    <tr>\n",
       "      <th>Completou a 4ª série/5º ano, mas não completou a 8ª série/9º ano do Ensino Fundamental</th>\n",
       "      <td>78947</td>\n",
       "    </tr>\n",
       "    <tr>\n",
       "      <th>Não completou a 4ª série/5º ano do Ensino Fundamental</th>\n",
       "      <td>76115</td>\n",
       "    </tr>\n",
       "    <tr>\n",
       "      <th>Nao sei</th>\n",
       "      <td>67457</td>\n",
       "    </tr>\n",
       "    <tr>\n",
       "      <th>Completou a Pós-graduação</th>\n",
       "      <td>67108</td>\n",
       "    </tr>\n",
       "    <tr>\n",
       "      <th>Nunca estudou</th>\n",
       "      <td>14511</td>\n",
       "    </tr>\n",
       "  </tbody>\n",
       "</table>\n",
       "</div>"
      ],
      "text/plain": [
       "                                                    NU_INSCRICAO\n",
       "NO_Q001                                                         \n",
       "Completou o Ensino Médio, mas não completou a F...        224216\n",
       "Completou a Faculdade, mas não completou a Pós-...         84773\n",
       "Completou a 8ª série/9º ano do Ensino Fundament...         79788\n",
       "Completou a 4ª série/5º ano, mas não completou ...         78947\n",
       "Não completou a 4ª série/5º ano do Ensino Funda...         76115\n",
       "Nao sei                                                    67457\n",
       "Completou a Pós-graduação                                  67108\n",
       "Nunca estudou                                              14511"
      ]
     },
     "execution_count": 53,
     "metadata": {},
     "output_type": "execute_result"
    }
   ],
   "source": [
    "clnQ001 = ['NO_Q001', 'NU_INSCRICAO']\n",
    "dfq001 = dfIS.filter(items=clnQ001).groupby('NO_Q001').count().sort_values(by = 'NU_INSCRICAO', ascending = False)\n",
    "dfq001"
   ]
  },
  {
   "cell_type": "markdown",
   "id": "regulated-alabama",
   "metadata": {},
   "source": [
    "### Verificando distribuição da escolaridade da mãe"
   ]
  },
  {
   "cell_type": "code",
   "execution_count": 55,
   "id": "matched-budget",
   "metadata": {},
   "outputs": [
    {
     "data": {
      "text/html": [
       "<div>\n",
       "<style scoped>\n",
       "    .dataframe tbody tr th:only-of-type {\n",
       "        vertical-align: middle;\n",
       "    }\n",
       "\n",
       "    .dataframe tbody tr th {\n",
       "        vertical-align: top;\n",
       "    }\n",
       "\n",
       "    .dataframe thead th {\n",
       "        text-align: right;\n",
       "    }\n",
       "</style>\n",
       "<table border=\"1\" class=\"dataframe\">\n",
       "  <thead>\n",
       "    <tr style=\"text-align: right;\">\n",
       "      <th></th>\n",
       "      <th>NU_INSCRICAO</th>\n",
       "    </tr>\n",
       "    <tr>\n",
       "      <th>NO_Q002</th>\n",
       "      <th></th>\n",
       "    </tr>\n",
       "  </thead>\n",
       "  <tbody>\n",
       "    <tr>\n",
       "      <th>Completou o Ensino Médio, mas não completou a Faculdade</th>\n",
       "      <td>256673</td>\n",
       "    </tr>\n",
       "    <tr>\n",
       "      <th>Completou a Faculdade, mas não completou a Pós-graduação</th>\n",
       "      <td>108968</td>\n",
       "    </tr>\n",
       "    <tr>\n",
       "      <th>Completou a Pós-graduação</th>\n",
       "      <td>107393</td>\n",
       "    </tr>\n",
       "    <tr>\n",
       "      <th>Completou a 8ª série/9º ano do Ensino Fundamental, mas não completou o Ensino Médio</th>\n",
       "      <td>78427</td>\n",
       "    </tr>\n",
       "    <tr>\n",
       "      <th>Completou a 4ª série/5º ano, mas não completou a 8ª série/9º ano do Ensino Fundamental</th>\n",
       "      <td>60920</td>\n",
       "    </tr>\n",
       "    <tr>\n",
       "      <th>Não completou a 4ª série/5º ano do Ensino Fundamental</th>\n",
       "      <td>47607</td>\n",
       "    </tr>\n",
       "    <tr>\n",
       "      <th>Nao sei</th>\n",
       "      <td>25328</td>\n",
       "    </tr>\n",
       "    <tr>\n",
       "      <th>Nunca estudou</th>\n",
       "      <td>7599</td>\n",
       "    </tr>\n",
       "  </tbody>\n",
       "</table>\n",
       "</div>"
      ],
      "text/plain": [
       "                                                    NU_INSCRICAO\n",
       "NO_Q002                                                         \n",
       "Completou o Ensino Médio, mas não completou a F...        256673\n",
       "Completou a Faculdade, mas não completou a Pós-...        108968\n",
       "Completou a Pós-graduação                                 107393\n",
       "Completou a 8ª série/9º ano do Ensino Fundament...         78427\n",
       "Completou a 4ª série/5º ano, mas não completou ...         60920\n",
       "Não completou a 4ª série/5º ano do Ensino Funda...         47607\n",
       "Nao sei                                                    25328\n",
       "Nunca estudou                                               7599"
      ]
     },
     "execution_count": 55,
     "metadata": {},
     "output_type": "execute_result"
    }
   ],
   "source": [
    "clnQ002 = ['NO_Q002', 'NU_INSCRICAO']\n",
    "dfq002 = dfIS.filter(items=clnQ002).groupby('NO_Q002').count().sort_values(by = 'NU_INSCRICAO', ascending = False)\n",
    "dfq002"
   ]
  },
  {
   "cell_type": "markdown",
   "id": "statistical-slovakia",
   "metadata": {},
   "source": [
    "## Verificando notas de acordo com a escolaridade do pai e mãe"
   ]
  },
  {
   "cell_type": "markdown",
   "id": "descending-latitude",
   "metadata": {},
   "source": [
    "#### Prova de matemática"
   ]
  },
  {
   "cell_type": "code",
   "execution_count": 56,
   "id": "meaningful-server",
   "metadata": {},
   "outputs": [
    {
     "data": {
      "text/html": [
       "<div>\n",
       "<style scoped>\n",
       "    .dataframe tbody tr th:only-of-type {\n",
       "        vertical-align: middle;\n",
       "    }\n",
       "\n",
       "    .dataframe tbody tr th {\n",
       "        vertical-align: top;\n",
       "    }\n",
       "\n",
       "    .dataframe thead th {\n",
       "        text-align: right;\n",
       "    }\n",
       "</style>\n",
       "<table border=\"1\" class=\"dataframe\">\n",
       "  <thead>\n",
       "    <tr style=\"text-align: right;\">\n",
       "      <th></th>\n",
       "      <th>NU_NOTA_MT</th>\n",
       "    </tr>\n",
       "    <tr>\n",
       "      <th>NO_Q001</th>\n",
       "      <th></th>\n",
       "    </tr>\n",
       "  </thead>\n",
       "  <tbody>\n",
       "    <tr>\n",
       "      <th>Completou a Pós-graduação</th>\n",
       "      <td>630.480338</td>\n",
       "    </tr>\n",
       "    <tr>\n",
       "      <th>Completou a Faculdade, mas não completou a Pós-graduação</th>\n",
       "      <td>609.502194</td>\n",
       "    </tr>\n",
       "    <tr>\n",
       "      <th>Completou o Ensino Médio, mas não completou a Faculdade</th>\n",
       "      <td>553.386896</td>\n",
       "    </tr>\n",
       "    <tr>\n",
       "      <th>Completou a 8ª série/9º ano do Ensino Fundamental, mas não completou o Ensino Médio</th>\n",
       "      <td>527.399756</td>\n",
       "    </tr>\n",
       "    <tr>\n",
       "      <th>Completou a 4ª série/5º ano, mas não completou a 8ª série/9º ano do Ensino Fundamental</th>\n",
       "      <td>517.821917</td>\n",
       "    </tr>\n",
       "    <tr>\n",
       "      <th>Nao sei</th>\n",
       "      <td>507.028305</td>\n",
       "    </tr>\n",
       "    <tr>\n",
       "      <th>Não completou a 4ª série/5º ano do Ensino Fundamental</th>\n",
       "      <td>497.965063</td>\n",
       "    </tr>\n",
       "    <tr>\n",
       "      <th>Nunca estudou</th>\n",
       "      <td>473.904307</td>\n",
       "    </tr>\n",
       "  </tbody>\n",
       "</table>\n",
       "</div>"
      ],
      "text/plain": [
       "                                                    NU_NOTA_MT\n",
       "NO_Q001                                                       \n",
       "Completou a Pós-graduação                           630.480338\n",
       "Completou a Faculdade, mas não completou a Pós-...  609.502194\n",
       "Completou o Ensino Médio, mas não completou a F...  553.386896\n",
       "Completou a 8ª série/9º ano do Ensino Fundament...  527.399756\n",
       "Completou a 4ª série/5º ano, mas não completou ...  517.821917\n",
       "Nao sei                                             507.028305\n",
       "Não completou a 4ª série/5º ano do Ensino Funda...  497.965063\n",
       "Nunca estudou                                       473.904307"
      ]
     },
     "execution_count": 56,
     "metadata": {},
     "output_type": "execute_result"
    }
   ],
   "source": [
    "clnQ001 = ['NO_Q001', 'NU_NOTA_MT']\n",
    "dfq001 = dfIS.filter(items=clnQ001).groupby('NO_Q001').mean().sort_values(by = 'NU_NOTA_MT', ascending = False)\n",
    "dfq001"
   ]
  },
  {
   "cell_type": "code",
   "execution_count": 57,
   "id": "horizontal-twist",
   "metadata": {
    "scrolled": false
   },
   "outputs": [
    {
     "data": {
      "text/html": [
       "<div>\n",
       "<style scoped>\n",
       "    .dataframe tbody tr th:only-of-type {\n",
       "        vertical-align: middle;\n",
       "    }\n",
       "\n",
       "    .dataframe tbody tr th {\n",
       "        vertical-align: top;\n",
       "    }\n",
       "\n",
       "    .dataframe thead th {\n",
       "        text-align: right;\n",
       "    }\n",
       "</style>\n",
       "<table border=\"1\" class=\"dataframe\">\n",
       "  <thead>\n",
       "    <tr style=\"text-align: right;\">\n",
       "      <th></th>\n",
       "      <th>NU_NOTA_MT</th>\n",
       "    </tr>\n",
       "    <tr>\n",
       "      <th>NO_Q002</th>\n",
       "      <th></th>\n",
       "    </tr>\n",
       "  </thead>\n",
       "  <tbody>\n",
       "    <tr>\n",
       "      <th>Completou a Pós-graduação</th>\n",
       "      <td>608.930371</td>\n",
       "    </tr>\n",
       "    <tr>\n",
       "      <th>Completou a Faculdade, mas não completou a Pós-graduação</th>\n",
       "      <td>596.153677</td>\n",
       "    </tr>\n",
       "    <tr>\n",
       "      <th>Completou o Ensino Médio, mas não completou a Faculdade</th>\n",
       "      <td>543.029683</td>\n",
       "    </tr>\n",
       "    <tr>\n",
       "      <th>Completou a 8ª série/9º ano do Ensino Fundamental, mas não completou o Ensino Médio</th>\n",
       "      <td>514.163805</td>\n",
       "    </tr>\n",
       "    <tr>\n",
       "      <th>Completou a 4ª série/5º ano, mas não completou a 8ª série/9º ano do Ensino Fundamental</th>\n",
       "      <td>503.599636</td>\n",
       "    </tr>\n",
       "    <tr>\n",
       "      <th>Nao sei</th>\n",
       "      <td>494.747418</td>\n",
       "    </tr>\n",
       "    <tr>\n",
       "      <th>Não completou a 4ª série/5º ano do Ensino Fundamental</th>\n",
       "      <td>487.127172</td>\n",
       "    </tr>\n",
       "    <tr>\n",
       "      <th>Nunca estudou</th>\n",
       "      <td>465.544440</td>\n",
       "    </tr>\n",
       "  </tbody>\n",
       "</table>\n",
       "</div>"
      ],
      "text/plain": [
       "                                                    NU_NOTA_MT\n",
       "NO_Q002                                                       \n",
       "Completou a Pós-graduação                           608.930371\n",
       "Completou a Faculdade, mas não completou a Pós-...  596.153677\n",
       "Completou o Ensino Médio, mas não completou a F...  543.029683\n",
       "Completou a 8ª série/9º ano do Ensino Fundament...  514.163805\n",
       "Completou a 4ª série/5º ano, mas não completou ...  503.599636\n",
       "Nao sei                                             494.747418\n",
       "Não completou a 4ª série/5º ano do Ensino Funda...  487.127172\n",
       "Nunca estudou                                       465.544440"
      ]
     },
     "execution_count": 57,
     "metadata": {},
     "output_type": "execute_result"
    }
   ],
   "source": [
    "clnQ002 = ['NO_Q002', 'NU_NOTA_MT']\n",
    "dfq002 = dfIS.filter(items=clnQ002).groupby('NO_Q002').mean().sort_values(by = 'NU_NOTA_MT', ascending = False)\n",
    "dfq002"
   ]
  },
  {
   "cell_type": "markdown",
   "id": "marked-administrator",
   "metadata": {},
   "source": [
    "#### Redação"
   ]
  },
  {
   "cell_type": "code",
   "execution_count": 69,
   "id": "similar-transmission",
   "metadata": {},
   "outputs": [
    {
     "data": {
      "text/html": [
       "<div>\n",
       "<style scoped>\n",
       "    .dataframe tbody tr th:only-of-type {\n",
       "        vertical-align: middle;\n",
       "    }\n",
       "\n",
       "    .dataframe tbody tr th {\n",
       "        vertical-align: top;\n",
       "    }\n",
       "\n",
       "    .dataframe thead th {\n",
       "        text-align: right;\n",
       "    }\n",
       "</style>\n",
       "<table border=\"1\" class=\"dataframe\">\n",
       "  <thead>\n",
       "    <tr style=\"text-align: right;\">\n",
       "      <th></th>\n",
       "      <th>NU_NOTA_REDACAO</th>\n",
       "    </tr>\n",
       "    <tr>\n",
       "      <th>NO_Q001</th>\n",
       "      <th></th>\n",
       "    </tr>\n",
       "  </thead>\n",
       "  <tbody>\n",
       "    <tr>\n",
       "      <th>Completou a Pós-graduação</th>\n",
       "      <td>750.400846</td>\n",
       "    </tr>\n",
       "    <tr>\n",
       "      <th>Completou a Faculdade, mas não completou a Pós-graduação</th>\n",
       "      <td>723.644085</td>\n",
       "    </tr>\n",
       "    <tr>\n",
       "      <th>Completou o Ensino Médio, mas não completou a Faculdade</th>\n",
       "      <td>650.063510</td>\n",
       "    </tr>\n",
       "    <tr>\n",
       "      <th>Completou a 8ª série/9º ano do Ensino Fundamental, mas não completou o Ensino Médio</th>\n",
       "      <td>607.398857</td>\n",
       "    </tr>\n",
       "    <tr>\n",
       "      <th>Completou a 4ª série/5º ano, mas não completou a 8ª série/9º ano do Ensino Fundamental</th>\n",
       "      <td>590.885024</td>\n",
       "    </tr>\n",
       "    <tr>\n",
       "      <th>Não completou a 4ª série/5º ano do Ensino Fundamental</th>\n",
       "      <td>556.278263</td>\n",
       "    </tr>\n",
       "    <tr>\n",
       "      <th>Nao sei</th>\n",
       "      <td>554.672162</td>\n",
       "    </tr>\n",
       "    <tr>\n",
       "      <th>Nunca estudou</th>\n",
       "      <td>499.893874</td>\n",
       "    </tr>\n",
       "  </tbody>\n",
       "</table>\n",
       "</div>"
      ],
      "text/plain": [
       "                                                    NU_NOTA_REDACAO\n",
       "NO_Q001                                                            \n",
       "Completou a Pós-graduação                                750.400846\n",
       "Completou a Faculdade, mas não completou a Pós-...       723.644085\n",
       "Completou o Ensino Médio, mas não completou a F...       650.063510\n",
       "Completou a 8ª série/9º ano do Ensino Fundament...       607.398857\n",
       "Completou a 4ª série/5º ano, mas não completou ...       590.885024\n",
       "Não completou a 4ª série/5º ano do Ensino Funda...       556.278263\n",
       "Nao sei                                                  554.672162\n",
       "Nunca estudou                                            499.893874"
      ]
     },
     "execution_count": 69,
     "metadata": {},
     "output_type": "execute_result"
    }
   ],
   "source": [
    "clnQ001 = ['NO_Q001', 'NU_NOTA_REDACAO']\n",
    "dfq001 = dfIS.filter(items=clnQ001).groupby('NO_Q001').mean().sort_values(by = 'NU_NOTA_REDACAO', ascending = False)\n",
    "dfq001"
   ]
  },
  {
   "cell_type": "code",
   "execution_count": 59,
   "id": "adequate-liability",
   "metadata": {
    "scrolled": true
   },
   "outputs": [
    {
     "data": {
      "text/html": [
       "<div>\n",
       "<style scoped>\n",
       "    .dataframe tbody tr th:only-of-type {\n",
       "        vertical-align: middle;\n",
       "    }\n",
       "\n",
       "    .dataframe tbody tr th {\n",
       "        vertical-align: top;\n",
       "    }\n",
       "\n",
       "    .dataframe thead th {\n",
       "        text-align: right;\n",
       "    }\n",
       "</style>\n",
       "<table border=\"1\" class=\"dataframe\">\n",
       "  <thead>\n",
       "    <tr style=\"text-align: right;\">\n",
       "      <th></th>\n",
       "      <th>NU_NOTA_REDACAO</th>\n",
       "    </tr>\n",
       "    <tr>\n",
       "      <th>NO_Q002</th>\n",
       "      <th></th>\n",
       "    </tr>\n",
       "  </thead>\n",
       "  <tbody>\n",
       "    <tr>\n",
       "      <th>Completou a Pós-graduação</th>\n",
       "      <td>727.584479</td>\n",
       "    </tr>\n",
       "    <tr>\n",
       "      <th>Completou a Faculdade, mas não completou a Pós-graduação</th>\n",
       "      <td>706.425373</td>\n",
       "    </tr>\n",
       "    <tr>\n",
       "      <th>Completou o Ensino Médio, mas não completou a Faculdade</th>\n",
       "      <td>633.235050</td>\n",
       "    </tr>\n",
       "    <tr>\n",
       "      <th>Completou a 8ª série/9º ano do Ensino Fundamental, mas não completou o Ensino Médio</th>\n",
       "      <td>582.875540</td>\n",
       "    </tr>\n",
       "    <tr>\n",
       "      <th>Completou a 4ª série/5º ano, mas não completou a 8ª série/9º ano do Ensino Fundamental</th>\n",
       "      <td>564.171372</td>\n",
       "    </tr>\n",
       "    <tr>\n",
       "      <th>Não completou a 4ª série/5º ano do Ensino Fundamental</th>\n",
       "      <td>531.210956</td>\n",
       "    </tr>\n",
       "    <tr>\n",
       "      <th>Nao sei</th>\n",
       "      <td>512.120183</td>\n",
       "    </tr>\n",
       "    <tr>\n",
       "      <th>Nunca estudou</th>\n",
       "      <td>472.291091</td>\n",
       "    </tr>\n",
       "  </tbody>\n",
       "</table>\n",
       "</div>"
      ],
      "text/plain": [
       "                                                    NU_NOTA_REDACAO\n",
       "NO_Q002                                                            \n",
       "Completou a Pós-graduação                                727.584479\n",
       "Completou a Faculdade, mas não completou a Pós-...       706.425373\n",
       "Completou o Ensino Médio, mas não completou a F...       633.235050\n",
       "Completou a 8ª série/9º ano do Ensino Fundament...       582.875540\n",
       "Completou a 4ª série/5º ano, mas não completou ...       564.171372\n",
       "Não completou a 4ª série/5º ano do Ensino Funda...       531.210956\n",
       "Nao sei                                                  512.120183\n",
       "Nunca estudou                                            472.291091"
      ]
     },
     "execution_count": 59,
     "metadata": {},
     "output_type": "execute_result"
    }
   ],
   "source": [
    "clnQ002 = ['NO_Q002', 'NU_NOTA_REDACAO']\n",
    "dfq002 = dfIS.filter(items=clnQ002).groupby('NO_Q002').mean().sort_values(by = 'NU_NOTA_REDACAO', ascending = False)\n",
    "dfq002"
   ]
  },
  {
   "cell_type": "code",
   "execution_count": 67,
   "id": "parallel-shoulder",
   "metadata": {
    "scrolled": false
   },
   "outputs": [
    {
     "data": {
      "text/plain": [
       "<AxesSubplot:xlabel='Q001'>"
      ]
     },
     "execution_count": 67,
     "metadata": {},
     "output_type": "execute_result"
    },
    {
     "data": {
      "image/png": "[encoded data removed]",
      "text/plain": [
       "<Figure size 1080x360 with 1 Axes>"
      ]
     },
     "metadata": {
      "needs_background": "light"
     },
     "output_type": "display_data"
    }
   ],
   "source": [
    "clnQ001 = ['Q001', 'NU_NOTA_REDACAO']\n",
    "dfq001 = dfIS.filter(items=clnQ001).groupby('Q001').mean().sort_values(by = 'NU_NOTA_REDACAO', ascending = False)\n",
    "dfq001.plot(figsize=(15, 5))"
   ]
  },
  {
   "cell_type": "code",
   "execution_count": 70,
   "id": "turned-hampshire",
   "metadata": {
    "scrolled": false
   },
   "outputs": [
    {
     "data": {
      "text/html": [
       "<div>\n",
       "<style scoped>\n",
       "    .dataframe tbody tr th:only-of-type {\n",
       "        vertical-align: middle;\n",
       "    }\n",
       "\n",
       "    .dataframe tbody tr th {\n",
       "        vertical-align: top;\n",
       "    }\n",
       "\n",
       "    .dataframe thead tr th {\n",
       "        text-align: left;\n",
       "    }\n",
       "\n",
       "    .dataframe thead tr:last-of-type th {\n",
       "        text-align: right;\n",
       "    }\n",
       "</style>\n",
       "<table border=\"1\" class=\"dataframe\">\n",
       "  <thead>\n",
       "    <tr>\n",
       "      <th></th>\n",
       "      <th colspan=\"8\" halign=\"left\">NU_NOTA_REDACAO</th>\n",
       "    </tr>\n",
       "    <tr>\n",
       "      <th></th>\n",
       "      <th>count</th>\n",
       "      <th>mean</th>\n",
       "      <th>std</th>\n",
       "      <th>min</th>\n",
       "      <th>25%</th>\n",
       "      <th>50%</th>\n",
       "      <th>75%</th>\n",
       "      <th>max</th>\n",
       "    </tr>\n",
       "    <tr>\n",
       "      <th>NO_Q001</th>\n",
       "      <th></th>\n",
       "      <th></th>\n",
       "      <th></th>\n",
       "      <th></th>\n",
       "      <th></th>\n",
       "      <th></th>\n",
       "      <th></th>\n",
       "      <th></th>\n",
       "    </tr>\n",
       "  </thead>\n",
       "  <tbody>\n",
       "    <tr>\n",
       "      <th>Completou a 4ª série/5º ano, mas não completou a 8ª série/9º ano do Ensino Fundamental</th>\n",
       "      <td>78947.0</td>\n",
       "      <td>590.885024</td>\n",
       "      <td>213.869084</td>\n",
       "      <td>0.0</td>\n",
       "      <td>500.0</td>\n",
       "      <td>600.0</td>\n",
       "      <td>720.0</td>\n",
       "      <td>980.0</td>\n",
       "    </tr>\n",
       "    <tr>\n",
       "      <th>Completou a 8ª série/9º ano do Ensino Fundamental, mas não completou o Ensino Médio</th>\n",
       "      <td>79788.0</td>\n",
       "      <td>607.398857</td>\n",
       "      <td>209.142478</td>\n",
       "      <td>0.0</td>\n",
       "      <td>520.0</td>\n",
       "      <td>620.0</td>\n",
       "      <td>740.0</td>\n",
       "      <td>980.0</td>\n",
       "    </tr>\n",
       "    <tr>\n",
       "      <th>Completou a Faculdade, mas não completou a Pós-graduação</th>\n",
       "      <td>84773.0</td>\n",
       "      <td>723.644085</td>\n",
       "      <td>170.762149</td>\n",
       "      <td>0.0</td>\n",
       "      <td>620.0</td>\n",
       "      <td>740.0</td>\n",
       "      <td>860.0</td>\n",
       "      <td>1000.0</td>\n",
       "    </tr>\n",
       "    <tr>\n",
       "      <th>Completou a Pós-graduação</th>\n",
       "      <td>67108.0</td>\n",
       "      <td>750.400846</td>\n",
       "      <td>163.136659</td>\n",
       "      <td>0.0</td>\n",
       "      <td>660.0</td>\n",
       "      <td>780.0</td>\n",
       "      <td>880.0</td>\n",
       "      <td>1000.0</td>\n",
       "    </tr>\n",
       "    <tr>\n",
       "      <th>Completou o Ensino Médio, mas não completou a Faculdade</th>\n",
       "      <td>224216.0</td>\n",
       "      <td>650.063510</td>\n",
       "      <td>193.379446</td>\n",
       "      <td>0.0</td>\n",
       "      <td>560.0</td>\n",
       "      <td>660.0</td>\n",
       "      <td>800.0</td>\n",
       "      <td>1000.0</td>\n",
       "    </tr>\n",
       "    <tr>\n",
       "      <th>Nao sei</th>\n",
       "      <td>67457.0</td>\n",
       "      <td>554.672162</td>\n",
       "      <td>225.177520</td>\n",
       "      <td>0.0</td>\n",
       "      <td>480.0</td>\n",
       "      <td>580.0</td>\n",
       "      <td>700.0</td>\n",
       "      <td>980.0</td>\n",
       "    </tr>\n",
       "    <tr>\n",
       "      <th>Nunca estudou</th>\n",
       "      <td>14511.0</td>\n",
       "      <td>499.893874</td>\n",
       "      <td>243.121816</td>\n",
       "      <td>0.0</td>\n",
       "      <td>400.0</td>\n",
       "      <td>540.0</td>\n",
       "      <td>640.0</td>\n",
       "      <td>980.0</td>\n",
       "    </tr>\n",
       "    <tr>\n",
       "      <th>Não completou a 4ª série/5º ano do Ensino Fundamental</th>\n",
       "      <td>76115.0</td>\n",
       "      <td>556.278263</td>\n",
       "      <td>224.036715</td>\n",
       "      <td>0.0</td>\n",
       "      <td>480.0</td>\n",
       "      <td>580.0</td>\n",
       "      <td>700.0</td>\n",
       "      <td>1000.0</td>\n",
       "    </tr>\n",
       "  </tbody>\n",
       "</table>\n",
       "</div>"
      ],
      "text/plain": [
       "                                                   NU_NOTA_REDACAO  \\\n",
       "                                                             count   \n",
       "NO_Q001                                                              \n",
       "Completou a 4ª série/5º ano, mas não completou ...         78947.0   \n",
       "Completou a 8ª série/9º ano do Ensino Fundament...         79788.0   \n",
       "Completou a Faculdade, mas não completou a Pós-...         84773.0   \n",
       "Completou a Pós-graduação                                  67108.0   \n",
       "Completou o Ensino Médio, mas não completou a F...        224216.0   \n",
       "Nao sei                                                    67457.0   \n",
       "Nunca estudou                                              14511.0   \n",
       "Não completou a 4ª série/5º ano do Ensino Funda...         76115.0   \n",
       "\n",
       "                                                                            \\\n",
       "                                                          mean         std   \n",
       "NO_Q001                                                                      \n",
       "Completou a 4ª série/5º ano, mas não completou ...  590.885024  213.869084   \n",
       "Completou a 8ª série/9º ano do Ensino Fundament...  607.398857  209.142478   \n",
       "Completou a Faculdade, mas não completou a Pós-...  723.644085  170.762149   \n",
       "Completou a Pós-graduação                           750.400846  163.136659   \n",
       "Completou o Ensino Médio, mas não completou a F...  650.063510  193.379446   \n",
       "Nao sei                                             554.672162  225.177520   \n",
       "Nunca estudou                                       499.893874  243.121816   \n",
       "Não completou a 4ª série/5º ano do Ensino Funda...  556.278263  224.036715   \n",
       "\n",
       "                                                                              \\\n",
       "                                                    min    25%    50%    75%   \n",
       "NO_Q001                                                                        \n",
       "Completou a 4ª série/5º ano, mas não completou ...  0.0  500.0  600.0  720.0   \n",
       "Completou a 8ª série/9º ano do Ensino Fundament...  0.0  520.0  620.0  740.0   \n",
       "Completou a Faculdade, mas não completou a Pós-...  0.0  620.0  740.0  860.0   \n",
       "Completou a Pós-graduação                           0.0  660.0  780.0  880.0   \n",
       "Completou o Ensino Médio, mas não completou a F...  0.0  560.0  660.0  800.0   \n",
       "Nao sei                                             0.0  480.0  580.0  700.0   \n",
       "Nunca estudou                                       0.0  400.0  540.0  640.0   \n",
       "Não completou a 4ª série/5º ano do Ensino Funda...  0.0  480.0  580.0  700.0   \n",
       "\n",
       "                                                            \n",
       "                                                       max  \n",
       "NO_Q001                                                     \n",
       "Completou a 4ª série/5º ano, mas não completou ...   980.0  \n",
       "Completou a 8ª série/9º ano do Ensino Fundament...   980.0  \n",
       "Completou a Faculdade, mas não completou a Pós-...  1000.0  \n",
       "Completou a Pós-graduação                           1000.0  \n",
       "Completou o Ensino Médio, mas não completou a F...  1000.0  \n",
       "Nao sei                                              980.0  \n",
       "Nunca estudou                                        980.0  \n",
       "Não completou a 4ª série/5º ano do Ensino Funda...  1000.0  "
      ]
     },
     "execution_count": 70,
     "metadata": {},
     "output_type": "execute_result"
    }
   ],
   "source": [
    "dfIS.filter(items=clnQ001).groupby('NO_Q001').describe()"
   ]
  },
  {
   "cell_type": "markdown",
   "id": "funny-object",
   "metadata": {},
   "source": [
    "## Gráfico referente a nota da redação de cada estado de acordo com o nível de escolaridade do pai"
   ]
  },
  {
   "cell_type": "code",
   "execution_count": 75,
   "id": "otherwise-carnival",
   "metadata": {
    "scrolled": false
   },
   "outputs": [
    {
     "data": {
      "text/plain": [
       "<matplotlib.legend.Legend at 0x2a3af6173c8>"
      ]
     },
     "execution_count": 75,
     "metadata": {},
     "output_type": "execute_result"
    },
    {
     "data": {
      "image/png": "[encoded data removed]",
      "text/plain": [
       "<Figure size 1080x576 with 1 Axes>"
      ]
     },
     "metadata": {
      "needs_background": "light"
     },
     "output_type": "display_data"
    }
   ],
   "source": [
    "import matplotlib.pyplot as plt\n",
    "\n",
    "\n",
    "ax = dfIS.filter(items=['SG_UF_ESC', 'Q001', 'NU_NOTA_REDACAO'])\\\n",
    "  .groupby(['Q001', 'SG_UF_ESC']).mean().sort_values(by='NU_NOTA_REDACAO', ascending = False)\\\n",
    "  .unstack().plot(figsize=(15,8))\n",
    "\n",
    "\n",
    "ax.set_title('Nota redacao x estado')\n",
    "ax.legend(bbox_to_anchor=(1, 1), loc=0, borderaxespad=0.)\n",
    "\n",
    "\n",
    "\n"
   ]
  },
  {
   "cell_type": "markdown",
   "id": "residential-november",
   "metadata": {},
   "source": [
    "Ao conduzir uma análise comparativa das notas do ENEM em relação ao nível de escolaridade dos pais dos candidatos, os resultados revelaram um padrão consistente e significativo: quanto maior o nível de escolaridade dos pais, melhores as notas dos estudantes em todas as provas. Da mesma forma, quanto menor o nível de escolaridade dos pais, piores foram as pontuações obtidas pelos candidatos.\n",
    "\n",
    "Essa constatação traz à tona a forte influência que o nível educacional dos pais exerce no desempenho acadêmico de seus filhos. Essa relação pode ser atribuída a diversos fatores que se interconectam e impactam o ambiente de aprendizado e as oportunidades educacionais dos estudantes.\n",
    "\n",
    "Em primeiro lugar, pais com maior nível de escolaridade tendem a possuir uma base de conhecimento mais sólida e uma maior compreensão dos processos educacionais. Essa maior bagagem intelectual pode facilitar a transmissão de habilidades de estudo, estímulo ao aprendizado e apoio ao desenvolvimento acadêmico dos filhos.\n",
    "\n",
    "Além disso, famílias com maior nível educacional geralmente têm acesso a mais recursos educacionais, como livros, materiais de estudo e acesso à internet. Esses recursos podem ampliar as oportunidades de aprendizado dos estudantes e contribuir para um ambiente mais estimulante em casa.\n",
    "\n",
    "Outro fator relevante é o papel dos pais como modelos de comportamento e aspirações acadêmicas. Quando os pais possuem um alto nível de educação, eles podem inspirar seus filhos a perseguirem metas educacionais mais elevadas, estimulando o desejo de buscar o sucesso acadêmico e profissional."
   ]
  },
  {
   "cell_type": "markdown",
   "id": "sonic-collaboration",
   "metadata": {},
   "source": [
    "# Criando  DataFrame de média de notas por municipio"
   ]
  },
  {
   "cell_type": "code",
   "execution_count": 76,
   "id": "forward-shakespeare",
   "metadata": {},
   "outputs": [],
   "source": [
    "df = microDadosEnem.filter(items=['CO_MUNICIPIO_ESC', 'NO_MUNICIPIO_ESC', 'NU_NOTA_REDACAO', 'NU_NOTA_CN', 'NU_NOTA_CH', 'NU_NOTA_LC',\n",
    "                                  'NU_NOTA_MT'])"
   ]
  },
  {
   "cell_type": "code",
   "execution_count": 77,
   "id": "resident-lightning",
   "metadata": {},
   "outputs": [
    {
     "data": {
      "text/html": [
       "<div>\n",
       "<style scoped>\n",
       "    .dataframe tbody tr th:only-of-type {\n",
       "        vertical-align: middle;\n",
       "    }\n",
       "\n",
       "    .dataframe tbody tr th {\n",
       "        vertical-align: top;\n",
       "    }\n",
       "\n",
       "    .dataframe thead th {\n",
       "        text-align: right;\n",
       "    }\n",
       "</style>\n",
       "<table border=\"1\" class=\"dataframe\">\n",
       "  <thead>\n",
       "    <tr style=\"text-align: right;\">\n",
       "      <th></th>\n",
       "      <th>CO_MUNICIPIO_ESC</th>\n",
       "      <th>NU_NOTA_REDACAO</th>\n",
       "      <th>NU_NOTA_CN</th>\n",
       "      <th>NU_NOTA_CH</th>\n",
       "      <th>NU_NOTA_LC</th>\n",
       "      <th>NU_NOTA_MT</th>\n",
       "    </tr>\n",
       "    <tr>\n",
       "      <th>NO_MUNICIPIO_ESC</th>\n",
       "      <th></th>\n",
       "      <th></th>\n",
       "      <th></th>\n",
       "      <th></th>\n",
       "      <th></th>\n",
       "      <th></th>\n",
       "    </tr>\n",
       "  </thead>\n",
       "  <tbody>\n",
       "    <tr>\n",
       "      <th>Abadia de Goiás</th>\n",
       "      <td>5200050.0</td>\n",
       "      <td>611.111111</td>\n",
       "      <td>470.605882</td>\n",
       "      <td>475.105556</td>\n",
       "      <td>458.300000</td>\n",
       "      <td>477.217647</td>\n",
       "    </tr>\n",
       "    <tr>\n",
       "      <th>Abadia dos Dourados</th>\n",
       "      <td>3100104.0</td>\n",
       "      <td>666.250000</td>\n",
       "      <td>472.766667</td>\n",
       "      <td>516.025000</td>\n",
       "      <td>507.087500</td>\n",
       "      <td>537.646667</td>\n",
       "    </tr>\n",
       "    <tr>\n",
       "      <th>Abadiânia</th>\n",
       "      <td>5200100.0</td>\n",
       "      <td>644.358974</td>\n",
       "      <td>499.265714</td>\n",
       "      <td>525.533333</td>\n",
       "      <td>516.635897</td>\n",
       "      <td>560.051429</td>\n",
       "    </tr>\n",
       "    <tr>\n",
       "      <th>Abaetetuba</th>\n",
       "      <td>1500107.0</td>\n",
       "      <td>608.169839</td>\n",
       "      <td>476.868413</td>\n",
       "      <td>499.734846</td>\n",
       "      <td>479.685212</td>\n",
       "      <td>494.182435</td>\n",
       "    </tr>\n",
       "    <tr>\n",
       "      <th>Abaeté</th>\n",
       "      <td>3100203.0</td>\n",
       "      <td>655.172414</td>\n",
       "      <td>513.936207</td>\n",
       "      <td>556.582759</td>\n",
       "      <td>547.808621</td>\n",
       "      <td>594.905172</td>\n",
       "    </tr>\n",
       "    <tr>\n",
       "      <th>...</th>\n",
       "      <td>...</td>\n",
       "      <td>...</td>\n",
       "      <td>...</td>\n",
       "      <td>...</td>\n",
       "      <td>...</td>\n",
       "      <td>...</td>\n",
       "    </tr>\n",
       "    <tr>\n",
       "      <th>Áurea</th>\n",
       "      <td>4301552.0</td>\n",
       "      <td>600.000000</td>\n",
       "      <td>492.225000</td>\n",
       "      <td>541.450000</td>\n",
       "      <td>534.625000</td>\n",
       "      <td>520.025000</td>\n",
       "    </tr>\n",
       "    <tr>\n",
       "      <th>Ângulo</th>\n",
       "      <td>4101150.0</td>\n",
       "      <td>553.333333</td>\n",
       "      <td>491.237500</td>\n",
       "      <td>493.188889</td>\n",
       "      <td>445.166667</td>\n",
       "      <td>492.187500</td>\n",
       "    </tr>\n",
       "    <tr>\n",
       "      <th>Érico Cardoso</th>\n",
       "      <td>2900504.0</td>\n",
       "      <td>597.333333</td>\n",
       "      <td>455.826667</td>\n",
       "      <td>488.273333</td>\n",
       "      <td>469.506667</td>\n",
       "      <td>456.446667</td>\n",
       "    </tr>\n",
       "    <tr>\n",
       "      <th>Óbidos</th>\n",
       "      <td>1505106.0</td>\n",
       "      <td>567.872340</td>\n",
       "      <td>461.983516</td>\n",
       "      <td>483.845745</td>\n",
       "      <td>466.504255</td>\n",
       "      <td>470.313187</td>\n",
       "    </tr>\n",
       "    <tr>\n",
       "      <th>Óleo</th>\n",
       "      <td>3533809.0</td>\n",
       "      <td>240.000000</td>\n",
       "      <td>456.885714</td>\n",
       "      <td>443.912500</td>\n",
       "      <td>449.212500</td>\n",
       "      <td>413.214286</td>\n",
       "    </tr>\n",
       "  </tbody>\n",
       "</table>\n",
       "<p>5265 rows × 6 columns</p>\n",
       "</div>"
      ],
      "text/plain": [
       "                     CO_MUNICIPIO_ESC  NU_NOTA_REDACAO  NU_NOTA_CN  \\\n",
       "NO_MUNICIPIO_ESC                                                     \n",
       "Abadia de Goiás             5200050.0       611.111111  470.605882   \n",
       "Abadia dos Dourados         3100104.0       666.250000  472.766667   \n",
       "Abadiânia                   5200100.0       644.358974  499.265714   \n",
       "Abaetetuba                  1500107.0       608.169839  476.868413   \n",
       "Abaeté                      3100203.0       655.172414  513.936207   \n",
       "...                               ...              ...         ...   \n",
       "Áurea                       4301552.0       600.000000  492.225000   \n",
       "Ângulo                      4101150.0       553.333333  491.237500   \n",
       "Érico Cardoso               2900504.0       597.333333  455.826667   \n",
       "Óbidos                      1505106.0       567.872340  461.983516   \n",
       "Óleo                        3533809.0       240.000000  456.885714   \n",
       "\n",
       "                     NU_NOTA_CH  NU_NOTA_LC  NU_NOTA_MT  \n",
       "NO_MUNICIPIO_ESC                                         \n",
       "Abadia de Goiás      475.105556  458.300000  477.217647  \n",
       "Abadia dos Dourados  516.025000  507.087500  537.646667  \n",
       "Abadiânia            525.533333  516.635897  560.051429  \n",
       "Abaetetuba           499.734846  479.685212  494.182435  \n",
       "Abaeté               556.582759  547.808621  594.905172  \n",
       "...                         ...         ...         ...  \n",
       "Áurea                541.450000  534.625000  520.025000  \n",
       "Ângulo               493.188889  445.166667  492.187500  \n",
       "Érico Cardoso        488.273333  469.506667  456.446667  \n",
       "Óbidos               483.845745  466.504255  470.313187  \n",
       "Óleo                 443.912500  449.212500  413.214286  \n",
       "\n",
       "[5265 rows x 6 columns]"
      ]
     },
     "execution_count": 77,
     "metadata": {},
     "output_type": "execute_result"
    }
   ],
   "source": [
    "mediaEnemPorMunicipio = df.filter(items = (['CO_MUNICIPIO_ESC', 'NO_MUNICIPIO_ESC', 'NU_NOTA_REDACAO', 'NU_NOTA_CN', 'NU_NOTA_CH', 'NU_NOTA_LC',\n",
    "                                  'NU_NOTA_MT'])).groupby('NO_MUNICIPIO_ESC').mean()\n",
    "mediaEnemPorMunicipio"
   ]
  },
  {
   "cell_type": "code",
   "execution_count": 78,
   "id": "governmental-impression",
   "metadata": {},
   "outputs": [],
   "source": [
    "mediaEnemPorMunicipio.to_csv('mediaEnemPorMunicipio.csv')"
   ]
  }
 ],
 "metadata": {
  "kernelspec": {
   "display_name": "Python 3",
   "language": "python",
   "name": "python3"
  },
  "language_info": {
   "codemirror_mode": {
    "name": "ipython",
    "version": 3
   },
   "file_extension": ".py",
   "mimetype": "text/x-python",
   "name": "python",
   "nbconvert_exporter": "python",
   "pygments_lexer": "ipython3",
   "version": "3.7.10"
  }
 },
 "nbformat": 4,
 "nbformat_minor": 5
}
